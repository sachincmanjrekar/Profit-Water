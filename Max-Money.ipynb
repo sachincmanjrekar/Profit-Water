{
 "cells": [
  {
   "cell_type": "code",
   "execution_count": 3,
   "id": "7a8e2c14",
   "metadata": {},
   "outputs": [
    {
     "name": "stdout",
     "output_type": "stream",
     "text": [
      "Time Unit: 22\n",
      "Solutions\n",
      "Earnings: $57000\n",
      "1.  T: 4 P: 0 C: 0\n",
      "2.  T: 3 P: 1 C: 0\n"
     ]
    }
   ],
   "source": [
    "def pub(p1,t1,c1,remaining_time,Earned_money):                    #If remaining time is either 5 or 6, we can get max money by building Pub only.\n",
    "    remaining_time=remaining_time-4                               #Function to calculate max money by building Pub.\n",
    "    Earned_money+=(remaining_time*1000)\n",
    "    p1+=1\n",
    "    print(\"Solutions\")\n",
    "    print(\"Earnings: $\"+str(Earned_money))\n",
    "    print(\"1.  T:\",t1,\"P:\",p1,\"C:\",c1)\n",
    "\n",
    "    \n",
    "    \n",
    "def twilight(p1,t1,c1,remaining_time,Earned_money):              #If remaining time is 7, we can get max money(3000$) by building either Pub or Theater  \n",
    "    remaining_time_thtr=remaining_time-5                          #There is two solutions\n",
    "    ear_thtr=Earned_money\n",
    "    ear_thtr+=(remaining_time_thtr*1500)                          #By building theater,we get max money(3000$)\n",
    "    t1_thtr=t1\n",
    "    t1_thtr+=1\n",
    "    print(\"Solutions\")\n",
    "    print(\"Earnings: $\"+str(ear_thtr))\n",
    "    print(\"1.  T:\",t1_thtr,\"P:\",p1,\"C:\",c1)                       #Print 1st solution\n",
    "    \n",
    "    remaining_time=remaining_time-4\n",
    "    Earned_money+=(remaining_time*1000)                           #By building Pub,,we get max money(3000$)\n",
    "    p1+=1\n",
    "    #print(\"Earnings: $\"+str(Earned_money))\n",
    "    print(\"2.  T:\",t1,\"P:\",p1,\"C:\",c1)                          #Print 2nd solution\n",
    "\n",
    "      \n",
    "    \n",
    "def theater(p1,t1,c1,remaining_time,Earned_money):                  \n",
    "    remaining_time=remaining_time-5                             #Function to calculate max money by building Theater. \n",
    "    Earned_money+=(remaining_time*1500)\n",
    "    t1+=1\n",
    "    if remaining_time>9:                                       #recursive function if remaining time is greater than 9.\n",
    "        return theater(p1,t1,c1,remaining_time,Earned_money)\n",
    "    if remaining_time==9:                                           #If remaining time is 9, redirect to special case function.\n",
    "        return special_case(p1,t1,c1,remaining_time,Earned_money) \n",
    "    if remaining_time==8:                                             #If remaining time is 8, redirect to theater function.\n",
    "        return theater(p1,t1,c1,remaining_time,Earned_money)           \n",
    "    if 5<=remaining_time<=6:                                       #If remaining time is either 5 or 6, redirect to pub function.\n",
    "        return pub(p1,t1,c1,remaining_time,Earned_money)\n",
    "    if remaining_time==7:                                          #If remaining time is 7, redirect to twilight function.\n",
    "        return twilight(p1,t1,c1,remaining_time,Earned_money)\n",
    "    if remaining_time<=4:                                           #If remaining time is less than 4, print the end results.\n",
    "        print(\"Earnings: $\"+str(Earned_money))\n",
    "        print(\"1.  T:\",t1,\"P:\",p1,\"C:\",c1) \n",
    " \n",
    "\n",
    "\n",
    "def special_case(p1,t1,c1,remaining_time,Earned_money):    #If remaining time is 9, we can get max money(6000$) by building either Pubs(2 back to back) or Theater(only one)\n",
    "    p1_pub=p1\n",
    "    p1_pub+=2\n",
    "    ear_pub=Earned_money\n",
    "    ear_pub+=6000\n",
    "    print(\"Earnings: $\"+str(ear_pub))                        #we earn money(6000$) by building two pubs back to back.\n",
    "    print(\"1. T:\",t1,\"P:\",p1_pub,\"C:\",c1)                    #Print 1st solution\n",
    "    t1+=1\n",
    "    #print(\"Earnings: $\"+str(ear_pub))                       #we earn money(6000$) by building Theater at once at begining of remaining 9 units time. \n",
    "    print(\"2. T:\",t1,\"P:\",p1,\"C:\",c1)                        #Print 2nd solution\n",
    " \n",
    "\n",
    "\n",
    "if __name__ == \"__main__\":                                       #Programs Begins here\n",
    "    p,t,c=[1000,1500,3000]                                       #Money that we earn after building pub,theater,Commercial Park respectively\n",
    "    p1=t1=c1=0                                                   #Before building anything we have 'zero' money\n",
    "    n=int(input(\"Time Unit: \"))                                  #Enter time unit\n",
    "    remaining_time=n                                             #Initalize remaining time with input time unit\n",
    "    Earned_money=0                                               #Intially we have zero money\n",
    "      \n",
    "    if remaining_time<=4:                                        #If initial remaining time is less than 4 , we can't build anything.\n",
    "        print(\"Earnings: $\"+str(Earned_money))\n",
    "        print(\"1.  T:\",t1,\"P:\",p1,\"C:\",c1)\n",
    "    \n",
    "    if 5<=remaining_time<=6:                                      #If initial remaining time is either 5 or 6, we can get max money by building Pub\n",
    "        pub(p1,t1,c1,remaining_time,Earned_money)\n",
    "        \n",
    "    if remaining_time==7:                                         #If initial remaining time is 7, we can get max money(3000$) by building either Pub or Theater\n",
    "        twilight(p1,t1,c1,remaining_time,Earned_money)\n",
    "        \n",
    "    if remaining_time==8:                                         #If initial remaining time is 8, we can get max money(4500$) by building Theater\n",
    "        theater(p1,t1,c1,remaining_time,Earned_money)\n",
    "        \n",
    "    if remaining_time==9:                                         #If initial remaining time is 9, we can get max money(6000$) by building both Pub and Theater in two ways\n",
    "        special_case(p1,t1,c1,remaining_time,Earned_money)\n",
    "\n",
    "    if remaining_time>9:                                           #If initial remaining time is greater than 9, we can get max money by building theater only\n",
    "        theater(p1,t1,c1,remaining_time,Earned_money)\n"
   ]
  },
  {
   "cell_type": "markdown",
   "id": "9fc0b0dd",
   "metadata": {},
   "source": [
    "## NOTE:There is no use in Building Commercial Park, because building Commercial Park takes 10 units,building two theaters back to back also takes 10 units. But after 10 units two back to back theater always have advantage of $7500 in earnings over a single Commercial Park."
   ]
  },
  {
   "cell_type": "code",
   "execution_count": null,
   "id": "b13a422e",
   "metadata": {},
   "outputs": [],
   "source": []
  }
 ],
 "metadata": {
  "hide_input": false,
  "kernelspec": {
   "display_name": "Python 3 (ipykernel)",
   "language": "python",
   "name": "python3"
  },
  "language_info": {
   "codemirror_mode": {
    "name": "ipython",
    "version": 3
   },
   "file_extension": ".py",
   "mimetype": "text/x-python",
   "name": "python",
   "nbconvert_exporter": "python",
   "pygments_lexer": "ipython3",
   "version": "3.9.13"
  }
 },
 "nbformat": 4,
 "nbformat_minor": 5
}
